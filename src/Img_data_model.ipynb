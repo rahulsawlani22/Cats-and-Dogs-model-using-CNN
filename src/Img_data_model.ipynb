{
 "cells": [
  {
   "cell_type": "code",
   "execution_count": 65,
   "metadata": {},
   "outputs": [],
   "source": [
    "import tensorflow as tf\n",
    "from tensorflow.keras.models import Sequential\n",
    "from tensorflow.keras.layers import Dense, Dropout, Activation, Flatten,Conv2D, MaxPooling2D\n",
    "import pickle\n",
    "from tensorflow.keras.callbacks import TensorBoard\n",
    "import time\n",
    "\n",
    "NAME=\"cats-vs-dogs-CNN-64x2\"\n",
    "tensorboard=TensorBoard(log_dir=\"logs\\{}\".format(NAME))"
   ]
  },
  {
   "cell_type": "code",
   "execution_count": 66,
   "metadata": {},
   "outputs": [
    {
     "name": "stdout",
     "output_type": "stream",
     "text": [
      "24946\n"
     ]
    }
   ],
   "source": [
    "op=open(\"X.pickle\",\"rb\")\n",
    "x=pickle.load(op)\n",
    "op.close()\n",
    "op=open(\"Y.pickle\",\"rb\")\n",
    "y=pickle.load(op)\n",
    "op.close()\n",
    "\n",
    "\n",
    "print(len(y))"
   ]
  },
  {
   "cell_type": "code",
   "execution_count": 67,
   "metadata": {},
   "outputs": [
    {
     "name": "stdout",
     "output_type": "stream",
     "text": [
      "Train on 22451 samples, validate on 2495 samples\n",
      "Epoch 1/10\n",
      "22451/22451 [==============================] - 126s 6ms/sample - loss: 0.6083 - accuracy: 0.6618 - val_loss: 0.6018 - val_accuracy: 0.6794\n",
      "Epoch 2/10\n",
      "22451/22451 [==============================] - 113s 5ms/sample - loss: 0.4776 - accuracy: 0.7760 - val_loss: 0.4687 - val_accuracy: 0.7804\n",
      "Epoch 3/10\n",
      "22451/22451 [==============================] - 137s 6ms/sample - loss: 0.4185 - accuracy: 0.8091 - val_loss: 0.4374 - val_accuracy: 0.7896\n",
      "Epoch 4/10\n",
      "22451/22451 [==============================] - 197s 9ms/sample - loss: 0.3722 - accuracy: 0.8342 - val_loss: 0.4354 - val_accuracy: 0.7996\n",
      "Epoch 5/10\n",
      "22451/22451 [==============================] - 190s 8ms/sample - loss: 0.3353 - accuracy: 0.8514 - val_loss: 0.3756 - val_accuracy: 0.8289\n",
      "Epoch 6/10\n",
      "22451/22451 [==============================] - 189s 8ms/sample - loss: 0.3016 - accuracy: 0.8699 - val_loss: 0.3902 - val_accuracy: 0.8393\n",
      "Epoch 7/10\n",
      "22451/22451 [==============================] - 190s 8ms/sample - loss: 0.2742 - accuracy: 0.8810 - val_loss: 0.3742 - val_accuracy: 0.8409\n",
      "Epoch 8/10\n",
      "22451/22451 [==============================] - 190s 8ms/sample - loss: 0.2474 - accuracy: 0.8961 - val_loss: 0.3709 - val_accuracy: 0.8497\n",
      "Epoch 9/10\n",
      "22451/22451 [==============================] - 208s 9ms/sample - loss: 0.2231 - accuracy: 0.9073 - val_loss: 0.3993 - val_accuracy: 0.8277\n",
      "Epoch 10/10\n",
      "22451/22451 [==============================] - 192s 9ms/sample - loss: 0.1998 - accuracy: 0.9188 - val_loss: 0.4013 - val_accuracy: 0.8365\n",
      "INFO:tensorflow:Assets written to: 64x2-CNN.model\\assets\n"
     ]
    }
   ],
   "source": [
    "\n",
    "x=x/255.0\n",
    "model=Sequential()\n",
    "model.add(Conv2D(64,(3,3),input_shape=x.shape[1:]))\n",
    "model.add(Activation(\"relu\"))\n",
    "model.add(MaxPooling2D(pool_size=(2,2)))\n",
    "\n",
    "model.add(Conv2D(64, (3,3)))\n",
    "model.add(Activation(\"relu\"))\n",
    "model.add(MaxPooling2D(pool_size=(2,2)))\n",
    "\n",
    "model.add(Conv2D(64, (3,3)))\n",
    "model.add(Activation(\"relu\"))\n",
    "model.add(MaxPooling2D(pool_size=(2,2)))\n",
    "\n",
    "model.add(Flatten())\n",
    "\n",
    "model.add(Dense(1))\n",
    "model.add(Activation('sigmoid'))\n",
    "#model.add(Dropout(0.2))\n",
    "\n",
    "model.compile(optimizer='nadam',loss='binary_crossentropy',metrics=['accuracy'])\n",
    "model.fit(x,y,batch_size=32,\n",
    "          epochs=10,validation_split=0.1,callbacks=[tensorboard]\n",
    "          )\n",
    "model.save('64x2-CNN.model') "
   ]
  },
  {
   "cell_type": "code",
   "execution_count": null,
   "metadata": {},
   "outputs": [],
   "source": []
  }
 ],
 "metadata": {
  "kernelspec": {
   "display_name": "Python 3",
   "language": "python",
   "name": "python3"
  },
  "language_info": {
   "codemirror_mode": {
    "name": "ipython",
    "version": 3
   },
   "file_extension": ".py",
   "mimetype": "text/x-python",
   "name": "python",
   "nbconvert_exporter": "python",
   "pygments_lexer": "ipython3",
   "version": "3.7.6"
  }
 },
 "nbformat": 4,
 "nbformat_minor": 2
}